{
 "cells": [
  {
   "cell_type": "raw",
   "id": "14782a8d-866d-43f4-9d12-3389cf61393c",
   "metadata": {},
   "source": [
    "# BRDF AHI to MODIS"
   ]
  },
  {
   "cell_type": "markdown",
   "id": "e7fb7dcc-cdb0-42f1-904f-4d220a556b04",
   "metadata": {},
   "source": [
    "# Import libary"
   ]
  },
  {
   "cell_type": "code",
   "execution_count": 1,
   "id": "5ff8b134-8ec6-4ceb-87ed-c5c8f0d6d804",
   "metadata": {},
   "outputs": [],
   "source": [
    "import sasktran as sk\n",
    "import numpy as np\n",
    "import datetime as dt\n",
    "import time as T\n",
    "import cv2\n",
    "from joblib import Parallel, delayed\n",
    "import numba as nb\n",
    "import os\n",
    "import paramiko\n",
    "from scp import SCPClient\n",
    "import subprocess\n",
    "from scipy.stats import gaussian_kde\n",
    "from sklearn.linear_model import LinearRegression\n",
    "import matplotlib.pyplot as plt\n",
    "from mpl_toolkits.basemap import Basemap\n",
    "import matplotlib.transforms as mtransforms"
   ]
  },
  {
   "cell_type": "markdown",
   "id": "eb3c9112-1976-4548-8595-428538764d94",
   "metadata": {},
   "source": [
    "# Function"
   ]
  },
  {
   "cell_type": "code",
   "execution_count": 2,
   "id": "e9da6bb5-24bc-4f50-b8cc-68df3b89def3",
   "metadata": {},
   "outputs": [],
   "source": [
    "class AHI_angle:\n",
    "    def __init__(self,date,):\n",
    "        self.date = date      \n",
    "        \n",
    "    def read_angle_data(self):\n",
    "    \n",
    "        AHI_date = self.date[4:11]\n",
    "        \n",
    "        sza_file_name = 'AHI_SZA_2018{}5.dat'.format(AHI_date)\n",
    "        saa_file_name = 'AHI_SAA_2018{}5.dat'.format(AHI_date)\n",
    "        \n",
    "        with open(SZA_PATH + sza_file_name,'rb') as fp:\n",
    "            AHI_SZA = np.frombuffer(fp.read(),dtype='u2').reshape(3000,3000) / 100\n",
    "            AHI_SZA=cv2.resize(np.array(AHI_SZA,dtype='float64'),(12000,12000),interpolation=cv2.INTER_NEAREST)\n",
    "        \n",
    "        with open(SAA_PATH + saa_file_name,'rb') as fp:\n",
    "            AHI_SAA = np.frombuffer(fp.read(),dtype='u2').reshape(3000,3000) / 100\n",
    "            AHI_SAA=cv2.resize(np.array(AHI_SAA,dtype='float64'),(12000,12000),interpolation=cv2.INTER_NEAREST)        \n",
    "        return AHI_SZA,AHI_SAA\n",
    "class H8_data:\n",
    "\n",
    "    def __init__(self , account , pw , band , band_number , date):\n",
    "        self.account = account\n",
    "        self.pw = pw\n",
    "        self.band = band\n",
    "        self.band_number = band_number\n",
    "        self.date = date\n",
    "    \n",
    "    def get_path(self):\n",
    "        return '/data01/GEO/ORGDATA/H8AHI/hmwr829gr.cr.chiba-u.ac.jp/gridded/FD/V20151105/' + self.date[0:6] + '/' + self.band.upper() + '/'\n",
    "\n",
    "    def get_filename(self):\n",
    "        return self.date + \".\" + self.band + \".\" + self.band_number + \".fld.geoss.bz2\"\n",
    "    \n",
    "    def DN2TBB(self,data):\n",
    "        LUT=np.loadtxt(DN_PATH + 'count2tbb_v102/' + self.band + \".\" + self.band_number)\n",
    "        return LUT[data,1]\n",
    "    \n",
    "    def file_path(self):\n",
    "        return self.get_path() + self.get_filename() \n",
    "                 \n",
    "    def download_H8data(self):\n",
    "        client = paramiko.SSHClient()\n",
    "        client.load_system_host_keys()\n",
    "        client.set_missing_host_key_policy(paramiko.AutoAddPolicy())\n",
    "        client.connect(hostname='10.4.123.47', port=22, username=self.account, password=self.pw)\n",
    "        scp = SCPClient(client.get_transport())\n",
    "        sftp = client.open_sftp()\n",
    "\n",
    "        try :\n",
    "            sftp.stat(self.file_path())\n",
    "\n",
    "        except FileNotFoundError:\n",
    "            print(\"File Not Found\")\n",
    "            return 'No data'\n",
    "\n",
    "        else:\n",
    "            scp.get(self.file_path(), folder_original+'/')\n",
    "            p = subprocess.Popen('lbzip2 -d {}{}'.format(folder_original+'/',self.file_path()[-33:]),shell=True)\n",
    "            p.communicate()\n",
    "            print ('Himawari8/AHI data Processed Finish')\n",
    "            return folder_original + '/' + self.get_filename()[:-4]\n",
    "            \n",
    "    def read_H8data(self):\n",
    "        H8_file_path = self.download_H8data()\n",
    "        if self.band == \"vis\":\n",
    "            sr = 12000\n",
    "        elif self.band == \"ext\":\n",
    "            sr = 24000\n",
    "        else:\n",
    "            sr = 6000\n",
    "        if H8_file_path != 'No data':\n",
    "            with open(H8_file_path,'rb') as fp:\n",
    "                data = np.frombuffer(fp.read(),dtype='>u2').reshape(sr,sr)\n",
    "                data = self.DN2TBB(data)\n",
    "                data = data/100\n",
    "\n",
    "            print(\"data reading finish\")\n",
    "            return data\n",
    "        else:\n",
    "            return 'No data'\n",
    "        "
   ]
  },
  {
   "cell_type": "code",
   "execution_count": 3,
   "id": "39e21544-a1f1-488c-9bac-496a1f46f138",
   "metadata": {},
   "outputs": [],
   "source": [
    "def Time_split(time):\n",
    "    YYYY = time.strftime('%Y')\n",
    "    MM = time.strftime('%m')\n",
    "    DD = time.strftime('%d')\n",
    "    HH = time.strftime('%H')\n",
    "    MIN = time.strftime('%M')\n",
    "    date = YYYY + MM + DD + HH + MIN\n",
    "    return YYYY,MM,DD,HH,MIN,date\n",
    "\n",
    "def time2mjd(dateT):\n",
    "    t0=dt.datetime(1858,11,17,0,0,0,0)\n",
    "    mjd=(dateT-t0).days\n",
    "    mjd_s=dateT.hour*3600.0+dateT.minute*60.0+dateT.second+dateT.microsecond/1000000.0\n",
    "    return mjd+mjd_s/86400.0\n",
    "\n",
    "def Get_Kernel_Input_Parameter(date,band):\n",
    "    AHI_SZA,AHI_SAA = AHI_angle(date).read_angle_data()\n",
    "    RAA = abs(AHI_SAA - VAA)\n",
    "    RAA[RAA>180]=360-RAA[RAA>180]\n",
    "    if band == 4:\n",
    "        if os.path.exists(SR_PATH + '{}_AC/{}_b04.dat'.format(date,date)):\n",
    "            with open(SR_PATH + '{}_AC/{}_b04.dat'.format(date,date),'rb') as fp:\n",
    "                SR = np.frombuffer(fp.read(),dtype='f4').reshape(12000,12000)\n",
    "        else:\n",
    "            return 'None','None','None'\n",
    "    if band == 3:\n",
    "        if os.path.exists(SR_PATH + '{}_AC/{}_b03.dat'.format(date,date)):\n",
    "            with open(SR_PATH + '{}_AC/{}_b03.dat'.format(date,date),'rb') as fp:\n",
    "                SR = np.frombuffer(fp.read(),dtype='f4').reshape(24000,24000)\n",
    "                SR = SR.reshape(12000,2,12000,2).mean(-1).mean(1)\n",
    "        else:\n",
    "            return 'None','None','None'\n",
    "    # return SR[AHI_row-6:AHI_row+6,AHI_col-6:AHI_col+6],RAA[AHI_row-6:AHI_row+6,AHI_col-6:AHI_col+6],AHI_SZA[AHI_row-6:AHI_row+6,AHI_col-6:AHI_col+6]\n",
    "    return SR[2550:2750,4700:5000],RAA[2550:2750,4700:5000],AHI_SZA[2550:2750,4700:5000]\n",
    "\n",
    "def Volume_Kernel(wavel_nm,latitude,longitude,mjd,Cos_SZA,Cos_VZA,Cos_RAA):\n",
    "    brdf = sk.RossThickKernel()\n",
    "    vol = brdf.reflectance(wavel_nm,latitude,longitude,mjd,Cos_SZA,Cos_VZA,Cos_RAA)\n",
    "    return vol\n",
    "\n",
    "def Geometric_Kernel(wavel_nm,latitude,longitude,mjd,Cos_SZA,Cos_VZA,Cos_RAA):\n",
    "    brdf = sk.LiSparseReciprocalKernel(crown_shape=1.0, relative_height=2.0)\n",
    "    geo = brdf.reflectance(wavel_nm,latitude,longitude,mjd,Cos_SZA,Cos_VZA,Cos_RAA)\n",
    "    return geo\n",
    "\n",
    "\n",
    "\n",
    "def MODIS_Kernel_BRDF(band,idx_row,idx_col): \n",
    "    if band == 3:\n",
    "        if c_o_mask[idx_row,idx_col] == True:\n",
    "            kvol = Volume_Kernel(640,lat[idx_row],lon[idx_col],MJD,np.cos(np.radians(SZA[idx_row,idx_col])),np.cos(np.radians(VZA[idx_row,idx_col])),np.cos(np.radians(RAA[idx_row,idx_col])))\n",
    "            kgeo = Geometric_Kernel(640,lat[idx_row],lon[idx_col],MJD,np.cos(np.radians(SZA[idx_row,idx_col])),np.cos(np.radians(VZA[idx_row,idx_col])),np.cos(np.radians(RAA[idx_row,idx_col])))\n",
    "            return kvol,kgeo\n",
    "        else:\n",
    "            return np.nan,np.nan\n",
    "    elif band == 4:\n",
    "        if c_o_mask[idx_row,idx_col] == True:\n",
    "            kvol = Volume_Kernel(860,lat[idx_row],lon[idx_col],MJD,np.cos(np.radians(SZA[idx_row,idx_col])),np.cos(np.radians(VZA[idx_row,idx_col])),np.cos(np.radians(RAA[idx_row,idx_col])))\n",
    "            kgeo = Geometric_Kernel(860,lat[idx_row],lon[idx_col],MJD,np.cos(np.radians(SZA[idx_row,idx_col])),np.cos(np.radians(VZA[idx_row,idx_col])),np.cos(np.radians(RAA[idx_row,idx_col])))\n",
    "            return kvol,kgeo\n",
    "        else:\n",
    "            return np.nan,np.nan\n",
    "\n",
    "def Mask_Merge(date):\n",
    "    # Read cloud mask\n",
    "    # cloud 0, clear 1\n",
    "    if os.path.exists('/data01/people/liwei/Data/cm_120-150E_20-50N/{}_cloudmask.dat'.format(date)):\n",
    "        with open('/data01/people/liwei/Data/cm_120-150E_20-50N/{}_cloudmask.dat'.format(date),'rb') as fp:\n",
    "            cloudmask = np.frombuffer(fp.read(),dtype='<f4').reshape(1500,1500)\n",
    "            cloudmask = cv2.resize(np.array(cloudmask,dtype='float32'),(3000,3000),interpolation=cv2.INTER_NEAREST)\n",
    "\n",
    "        MASK = (Ocean_mask + cloudmask)\n",
    "        MASK = np.where(MASK==2,1,0)\n",
    "        MASK = MASK.astype(bool)\n",
    "        return MASK[1550:1750,1200:1500]\n",
    "        # return MASK[919:931,2038:2050]\n",
    "    \n",
    "@nb.jit()\n",
    "def get_water_idx():\n",
    "    Om = Ocean_mask.reshape(-1)\n",
    "    Water_idx = []\n",
    "    for i in range(200*300):\n",
    "        if Om[i] == True:\n",
    "            Water_idx.append(i)\n",
    "    return Water_idx\n",
    "\n",
    "def H8_Process(ACCOUNT,PW,Band,Band_number,Date):\n",
    "    data = H8_data(ACCOUNT,PW,Band,Band_number,Date).read_H8data()\n",
    "    return data\n",
    "\n",
    "import numpy.ma as ma"
   ]
  },
  {
   "cell_type": "markdown",
   "id": "96cf6e7f-9233-4fed-b9e8-59451ce666e6",
   "metadata": {},
   "source": [
    "# MAIN FUNCTION"
   ]
  },
  {
   "cell_type": "code",
   "execution_count": 4,
   "id": "05e8241f-6930-4b6c-ace1-739ef7b35b3c",
   "metadata": {},
   "outputs": [],
   "source": [
    "SR_PATH = '/data01/people/liwei/AC_Result/'\n",
    "VZA_PATH = '/data01/GEO/INPUT/ANGLE/Viewer_Zenith_Angle/AHI_VZA_10.dat'\n",
    "VAA_PATH = '/data01/GEO/INPUT/ANGLE/Viewer_Azimuth_Angle/AHI_VAA_10.dat'\n",
    "LAND_MASK_PATH = '/data01/GEO/INPUT/LAND_MASK/Landmask_10.dat'\n",
    "SZA_PATH = '/data01/GEO/INPUT/ANGLE/Solar_Zenith_Angle_u2/'\n",
    "SAA_PATH = '/data01/GEO/INPUT/ANGLE/Solar_Azimuth_Angle_u2/'\n",
    "\n",
    "# AHI VZA/VAA Load\n",
    "with open(VZA_PATH,'rb') as fp:\n",
    "    VZA = np.frombuffer(fp.read(),dtype='u2').reshape(12000,12000)[2550:2750,4700:5000] / 100\n",
    "with open(VAA_PATH,'rb') as fp:\n",
    "    VAA = np.frombuffer(fp.read(),dtype='u2').reshape(12000,12000) / 100\n",
    "with open(LAND_MASK_PATH,'rb') as fp:\n",
    "    Ocean_mask = np.frombuffer(fp.read(),dtype='u1').reshape(12000,12000)[1000:4000,3500:6500]\n",
    "res = 0.01\n",
    "lat = np.linspace(50 - res/2 ,20 + res/2,3000)\n",
    "lon = np.linspace(120 + res/2 ,150 - res/2,3000)"
   ]
  },
  {
   "cell_type": "code",
   "execution_count": 64,
   "id": "32c0c3aa-299b-4fcd-987e-712a3d33cd0e",
   "metadata": {
    "jupyter": {
     "source_hidden": true
    },
    "tags": []
   },
   "outputs": [],
   "source": [
    "SR_PATH = '/data01/people/liwei/AC_Result/'\n",
    "VZA_PATH = '/data01/GEO/INPUT/ANGLE/Viewer_Zenith_Angle/AHI_VZA_10.dat'\n",
    "VAA_PATH = '/data01/GEO/INPUT/ANGLE/Viewer_Azimuth_Angle/AHI_VAA_10.dat'\n",
    "LAND_MASK_PATH = '/data01/GEO/INPUT/LAND_MASK/Landmask_10.dat'\n",
    "SZA_PATH = '/data01/GEO/INPUT/ANGLE/Solar_Zenith_Angle_u2/'\n",
    "SAA_PATH = '/data01/GEO/INPUT/ANGLE/Solar_Azimuth_Angle_u2/'\n",
    "\n",
    "# AHI VZA/VAA Load\n",
    "with open(VZA_PATH,'rb') as fp:\n",
    "    VZA = np.frombuffer(fp.read(),dtype='u2').reshape(12000,12000)[AHI_row-6:AHI_row+6,AHI_col-6:AHI_col+6] / 100\n",
    "with open(VAA_PATH,'rb') as fp:\n",
    "    VAA = np.frombuffer(fp.read(),dtype='u2').reshape(12000,12000) / 100\n",
    "with open(LAND_MASK_PATH,'rb') as fp:\n",
    "    Ocean_mask = np.frombuffer(fp.read(),dtype='u1').reshape(12000,12000)[1000:4000,3500:6500]\n",
    "res = 0.01\n",
    "lat = np.linspace(50 - res/2 ,20 + res/2,3000)\n",
    "lon = np.linspace(120 + res/2 ,150 - res/2,3000)"
   ]
  },
  {
   "cell_type": "code",
   "execution_count": null,
   "id": "72ed4839-d6a4-4926-b901-a809f4999ea1",
   "metadata": {
    "tags": []
   },
   "outputs": [
    {
     "name": "stdout",
     "output_type": "stream",
     "text": [
      "2018-07-21 00:00:00\n",
      "time: 13.6 secs, 0.2 mins,0.0 hours\n",
      "2018-07-21 00:10:00\n",
      "time: 11.9 secs, 0.2 mins,0.0 hours\n",
      "2018-07-21 00:20:00\n",
      "time: 11.1 secs, 0.2 mins,0.0 hours\n",
      "2018-07-21 00:30:00\n",
      "time: 12.8 secs, 0.2 mins,0.0 hours\n",
      "2018-07-21 00:40:00\n",
      "time: 12.6 secs, 0.2 mins,0.0 hours\n",
      "2018-07-21 00:50:00\n",
      "time: 12.4 secs, 0.2 mins,0.0 hours\n",
      "2018-07-21 01:00:00\n",
      "time: 18.1 secs, 0.3 mins,0.0 hours\n",
      "2018-07-21 01:10:00\n",
      "time: 10.7 secs, 0.2 mins,0.0 hours\n",
      "2018-07-21 01:20:00\n",
      "time: 11.4 secs, 0.2 mins,0.0 hours\n",
      "2018-07-21 01:30:00\n",
      "time: 11.4 secs, 0.2 mins,0.0 hours\n",
      "2018-07-21 01:40:00\n",
      "time: 10.1 secs, 0.2 mins,0.0 hours\n",
      "2018-07-21 01:50:00\n",
      "time: 17.2 secs, 0.3 mins,0.0 hours\n",
      "2018-07-21 02:00:00\n",
      "time: 10.0 secs, 0.2 mins,0.0 hours\n",
      "2018-07-21 02:10:00\n",
      "time: 11.7 secs, 0.2 mins,0.0 hours\n",
      "2018-07-21 02:20:00\n",
      "time: 13.0 secs, 0.2 mins,0.0 hours\n",
      "2018-07-21 02:30:00\n",
      "time: 10.9 secs, 0.2 mins,0.0 hours\n",
      "2018-07-21 02:40:00\n",
      "2018-07-21 02:50:00\n",
      "time: 14.5 secs, 0.2 mins,0.0 hours\n",
      "2018-07-21 03:00:00\n",
      "time: 12.9 secs, 0.2 mins,0.0 hours\n",
      "2018-07-21 03:10:00\n",
      "time: 16.8 secs, 0.3 mins,0.0 hours\n",
      "2018-07-21 03:20:00\n",
      "time: 11.8 secs, 0.2 mins,0.0 hours\n",
      "2018-07-21 03:30:00\n",
      "time: 13.7 secs, 0.2 mins,0.0 hours\n",
      "2018-07-21 03:40:00\n",
      "time: 19.8 secs, 0.3 mins,0.0 hours\n",
      "2018-07-21 03:50:00\n",
      "time: 12.8 secs, 0.2 mins,0.0 hours\n",
      "2018-07-21 04:00:00\n",
      "time: 12.8 secs, 0.2 mins,0.0 hours\n",
      "2018-07-21 04:10:00\n",
      "time: 14.2 secs, 0.2 mins,0.0 hours\n",
      "2018-07-21 04:20:00\n",
      "time: 12.5 secs, 0.2 mins,0.0 hours\n",
      "2018-07-21 04:30:00\n",
      "time: 12.2 secs, 0.2 mins,0.0 hours\n",
      "2018-07-21 04:40:00\n",
      "time: 16.0 secs, 0.3 mins,0.0 hours\n",
      "2018-07-21 04:50:00\n",
      "time: 12.8 secs, 0.2 mins,0.0 hours\n",
      "2018-07-21 05:00:00\n",
      "time: 10.7 secs, 0.2 mins,0.0 hours\n",
      "2018-07-21 05:10:00\n",
      "time: 11.6 secs, 0.2 mins,0.0 hours\n",
      "2018-07-21 05:20:00\n",
      "time: 11.1 secs, 0.2 mins,0.0 hours\n",
      "2018-07-21 05:30:00\n",
      "time: 13.6 secs, 0.2 mins,0.0 hours\n",
      "2018-07-21 05:40:00\n",
      "time: 12.0 secs, 0.2 mins,0.0 hours\n",
      "2018-07-21 05:50:00\n",
      "time: 11.3 secs, 0.2 mins,0.0 hours\n",
      "2018-07-21 06:00:00\n",
      "time: 16.3 secs, 0.3 mins,0.0 hours\n",
      "2018-07-22 00:00:00\n",
      "time: 16.6 secs, 0.3 mins,0.0 hours\n",
      "2018-07-22 00:10:00\n",
      "time: 14.5 secs, 0.2 mins,0.0 hours\n",
      "2018-07-22 00:20:00\n",
      "time: 11.7 secs, 0.2 mins,0.0 hours\n",
      "2018-07-22 00:30:00\n",
      "time: 13.2 secs, 0.2 mins,0.0 hours\n",
      "2018-07-22 00:40:00\n",
      "time: 15.4 secs, 0.3 mins,0.0 hours\n",
      "2018-07-22 00:50:00\n",
      "time: 14.6 secs, 0.2 mins,0.0 hours\n",
      "2018-07-22 01:00:00\n",
      "time: 16.3 secs, 0.3 mins,0.0 hours\n",
      "2018-07-22 01:10:00\n",
      "time: 11.8 secs, 0.2 mins,0.0 hours\n",
      "2018-07-22 01:20:00\n",
      "time: 11.8 secs, 0.2 mins,0.0 hours\n",
      "2018-07-22 01:30:00\n",
      "time: 15.0 secs, 0.3 mins,0.0 hours\n",
      "2018-07-22 01:40:00\n",
      "time: 13.6 secs, 0.2 mins,0.0 hours\n",
      "2018-07-22 01:50:00\n",
      "time: 11.1 secs, 0.2 mins,0.0 hours\n",
      "2018-07-22 02:00:00\n",
      "time: 13.4 secs, 0.2 mins,0.0 hours\n",
      "2018-07-22 02:10:00\n",
      "time: 16.0 secs, 0.3 mins,0.0 hours\n",
      "2018-07-22 02:20:00\n",
      "time: 13.5 secs, 0.2 mins,0.0 hours\n",
      "2018-07-22 02:30:00\n",
      "time: 11.6 secs, 0.2 mins,0.0 hours\n",
      "2018-07-22 02:40:00\n",
      "2018-07-22 02:50:00\n",
      "time: 11.1 secs, 0.2 mins,0.0 hours\n",
      "2018-07-22 03:00:00\n",
      "time: 10.6 secs, 0.2 mins,0.0 hours\n",
      "2018-07-22 03:10:00\n",
      "time: 12.5 secs, 0.2 mins,0.0 hours\n",
      "2018-07-22 03:20:00\n",
      "time: 13.9 secs, 0.2 mins,0.0 hours\n",
      "2018-07-22 03:30:00\n",
      "time: 10.4 secs, 0.2 mins,0.0 hours\n",
      "2018-07-22 03:40:00\n",
      "time: 13.4 secs, 0.2 mins,0.0 hours\n",
      "2018-07-22 03:50:00\n",
      "time: 16.2 secs, 0.3 mins,0.0 hours\n",
      "2018-07-22 04:00:00\n",
      "time: 10.4 secs, 0.2 mins,0.0 hours\n",
      "2018-07-22 04:10:00\n",
      "time: 11.7 secs, 0.2 mins,0.0 hours\n",
      "2018-07-22 04:20:00\n",
      "time: 11.6 secs, 0.2 mins,0.0 hours\n",
      "2018-07-22 04:30:00\n",
      "time: 13.8 secs, 0.2 mins,0.0 hours\n",
      "2018-07-22 04:40:00\n",
      "time: 17.6 secs, 0.3 mins,0.0 hours\n",
      "2018-07-22 04:50:00\n",
      "time: 13.7 secs, 0.2 mins,0.0 hours\n",
      "2018-07-22 05:00:00\n",
      "time: 13.4 secs, 0.2 mins,0.0 hours\n",
      "2018-07-22 05:10:00\n",
      "time: 17.0 secs, 0.3 mins,0.0 hours\n",
      "2018-07-22 05:20:00\n",
      "time: 13.4 secs, 0.2 mins,0.0 hours\n",
      "2018-07-22 05:30:00\n",
      "time: 13.3 secs, 0.2 mins,0.0 hours\n",
      "2018-07-22 05:40:00\n",
      "time: 21.6 secs, 0.4 mins,0.0 hours\n",
      "2018-07-22 05:50:00\n",
      "time: 12.7 secs, 0.2 mins,0.0 hours\n",
      "2018-07-22 06:00:00\n",
      "time: 11.1 secs, 0.2 mins,0.0 hours\n",
      "2018-07-23 00:00:00\n",
      "time: 12.5 secs, 0.2 mins,0.0 hours\n",
      "2018-07-23 00:10:00\n",
      "time: 12.2 secs, 0.2 mins,0.0 hours\n",
      "2018-07-23 00:20:00\n",
      "time: 12.8 secs, 0.2 mins,0.0 hours\n",
      "2018-07-23 00:30:00\n",
      "time: 11.5 secs, 0.2 mins,0.0 hours\n",
      "2018-07-23 00:40:00\n",
      "time: 11.6 secs, 0.2 mins,0.0 hours\n",
      "2018-07-23 00:50:00\n",
      "time: 16.5 secs, 0.3 mins,0.0 hours\n",
      "2018-07-23 01:00:00\n",
      "time: 15.6 secs, 0.3 mins,0.0 hours\n",
      "2018-07-23 01:10:00\n",
      "time: 11.3 secs, 0.2 mins,0.0 hours\n",
      "2018-07-23 01:20:00\n",
      "time: 11.5 secs, 0.2 mins,0.0 hours\n",
      "2018-07-23 01:30:00\n",
      "time: 14.7 secs, 0.2 mins,0.0 hours\n",
      "2018-07-23 01:40:00\n",
      "time: 11.4 secs, 0.2 mins,0.0 hours\n",
      "2018-07-23 01:50:00\n",
      "time: 10.4 secs, 0.2 mins,0.0 hours\n",
      "2018-07-23 02:00:00\n",
      "time: 12.2 secs, 0.2 mins,0.0 hours\n",
      "2018-07-23 02:10:00\n",
      "time: 11.3 secs, 0.2 mins,0.0 hours\n",
      "2018-07-23 02:20:00\n",
      "time: 13.7 secs, 0.2 mins,0.0 hours\n",
      "2018-07-23 02:30:00\n",
      "time: 13.5 secs, 0.2 mins,0.0 hours\n",
      "2018-07-23 02:40:00\n",
      "2018-07-23 02:50:00\n",
      "time: 10.0 secs, 0.2 mins,0.0 hours\n",
      "2018-07-23 03:00:00\n",
      "time: 11.4 secs, 0.2 mins,0.0 hours\n",
      "2018-07-23 03:10:00\n",
      "time: 14.6 secs, 0.2 mins,0.0 hours\n",
      "2018-07-23 03:20:00\n",
      "time: 12.0 secs, 0.2 mins,0.0 hours\n",
      "2018-07-23 03:30:00\n",
      "time: 17.4 secs, 0.3 mins,0.0 hours\n",
      "2018-07-23 03:40:00\n",
      "time: 14.0 secs, 0.2 mins,0.0 hours\n",
      "2018-07-23 03:50:00\n",
      "time: 10.7 secs, 0.2 mins,0.0 hours\n",
      "2018-07-23 04:00:00\n",
      "time: 14.0 secs, 0.2 mins,0.0 hours\n",
      "2018-07-23 04:10:00\n",
      "time: 20.2 secs, 0.3 mins,0.0 hours\n",
      "2018-07-23 04:20:00\n",
      "time: 16.0 secs, 0.3 mins,0.0 hours\n",
      "2018-07-23 04:30:00\n",
      "time: 13.1 secs, 0.2 mins,0.0 hours\n",
      "2018-07-23 04:40:00\n",
      "time: 14.7 secs, 0.2 mins,0.0 hours\n",
      "2018-07-23 04:50:00\n",
      "time: 18.2 secs, 0.3 mins,0.0 hours\n",
      "2018-07-23 05:00:00\n",
      "time: 11.8 secs, 0.2 mins,0.0 hours\n",
      "2018-07-23 05:10:00\n",
      "time: 16.1 secs, 0.3 mins,0.0 hours\n",
      "2018-07-23 05:20:00\n",
      "time: 12.7 secs, 0.2 mins,0.0 hours\n",
      "2018-07-23 05:30:00\n",
      "time: 20.3 secs, 0.3 mins,0.0 hours\n",
      "2018-07-23 05:40:00\n",
      "time: 12.3 secs, 0.2 mins,0.0 hours\n",
      "2018-07-23 05:50:00\n",
      "time: 11.8 secs, 0.2 mins,0.0 hours\n",
      "2018-07-23 06:00:00\n",
      "time: 12.9 secs, 0.2 mins,0.0 hours\n",
      "2018-07-24 00:00:00\n",
      "time: 12.3 secs, 0.2 mins,0.0 hours\n",
      "2018-07-24 00:10:00\n",
      "time: 11.8 secs, 0.2 mins,0.0 hours\n",
      "2018-07-24 00:20:00\n",
      "time: 16.0 secs, 0.3 mins,0.0 hours\n",
      "2018-07-24 00:30:00\n",
      "time: 11.7 secs, 0.2 mins,0.0 hours\n",
      "2018-07-24 00:40:00\n",
      "time: 10.9 secs, 0.2 mins,0.0 hours\n",
      "2018-07-24 00:50:00\n",
      "time: 17.9 secs, 0.3 mins,0.0 hours\n",
      "2018-07-24 01:00:00\n",
      "time: 10.5 secs, 0.2 mins,0.0 hours\n",
      "2018-07-24 01:10:00\n",
      "time: 20.6 secs, 0.3 mins,0.0 hours\n",
      "2018-07-24 01:20:00\n",
      "time: 10.5 secs, 0.2 mins,0.0 hours\n",
      "2018-07-24 01:30:00\n",
      "time: 13.5 secs, 0.2 mins,0.0 hours\n",
      "2018-07-24 01:40:00\n",
      "time: 12.2 secs, 0.2 mins,0.0 hours\n",
      "2018-07-24 01:50:00\n",
      "time: 13.8 secs, 0.2 mins,0.0 hours\n",
      "2018-07-24 02:00:00\n",
      "time: 11.5 secs, 0.2 mins,0.0 hours\n",
      "2018-07-24 02:10:00\n",
      "time: 9.9 secs, 0.2 mins,0.0 hours\n",
      "2018-07-24 02:20:00\n",
      "time: 14.3 secs, 0.2 mins,0.0 hours\n",
      "2018-07-24 02:30:00\n",
      "time: 10.9 secs, 0.2 mins,0.0 hours\n",
      "2018-07-24 02:40:00\n",
      "2018-07-24 02:50:00\n",
      "time: 10.6 secs, 0.2 mins,0.0 hours\n",
      "2018-07-24 03:00:00\n",
      "time: 12.8 secs, 0.2 mins,0.0 hours\n",
      "2018-07-24 03:10:00\n",
      "time: 13.6 secs, 0.2 mins,0.0 hours\n",
      "2018-07-24 03:20:00\n",
      "time: 12.2 secs, 0.2 mins,0.0 hours\n",
      "2018-07-24 03:30:00\n",
      "time: 11.1 secs, 0.2 mins,0.0 hours\n",
      "2018-07-24 03:40:00\n",
      "time: 11.1 secs, 0.2 mins,0.0 hours\n",
      "2018-07-24 03:50:00\n",
      "time: 13.0 secs, 0.2 mins,0.0 hours\n",
      "2018-07-24 04:00:00\n"
     ]
    }
   ],
   "source": [
    "kvol = []\n",
    "kgeo = []\n",
    "Ref = []\n",
    "time_list = []\n",
    "for d in range(21,28):\n",
    "    \n",
    "\n",
    "    date_start = '2018-07-{} 00:00'.format(str(d))\n",
    "    date_end = '2018-07-{} 06:00'.format(str(d))\n",
    "    date_t = dt.timedelta(minutes=10)\n",
    "    # date_t = dt.timedelta(minutes=30)\n",
    "    date_s = dt.datetime.strptime(date_start, \"%Y-%m-%d %H:%M\")\n",
    "    date_e = dt.datetime.strptime(date_end, \"%Y-%m-%d %H:%M\")\n",
    "    date_time_now = date_s\n",
    "    b = 3\n",
    "    \n",
    "    # time_list = []\n",
    "    while date_time_now <= date_e:\n",
    "        print(date_time_now)\n",
    "        start_time = T.time()\n",
    "        YYYY,MM,DD,HH,MIN,date= Time_split(date_time_now)\n",
    "        c_o_mask = Mask_Merge(date)\n",
    "        \n",
    "        SR,RAA,SZA = Get_Kernel_Input_Parameter(date,b)\n",
    "        if SR[0][0] == 'N':\n",
    "            date_time_now = date_time_now + date_t\n",
    "            continue\n",
    "        MJD = time2mjd(date_time_now)\n",
    "        Kresult = Parallel(n_jobs=20)(delayed(MODIS_Kernel_BRDF)(b,i,j) for i in range(200) for j in range(300))\n",
    "        \n",
    "        kvol_current = ma.array(np.array(Kresult)[:,0].reshape(200,300),mask = ~c_o_mask,fill_value = np.nan).filled()\n",
    "        kgeo_current = ma.array(np.array(Kresult)[:,1].reshape(200,300),mask = ~c_o_mask,fill_value = np.nan).filled()\n",
    "        Ref_current =  ma.array(SR,mask = ~c_o_mask,fill_value = np.nan).filled()\n",
    "        kvol.append(kvol_current)\n",
    "        kgeo.append(kgeo_current)\n",
    "        Ref.append(Ref_current)\n",
    "        time_list.append(date)\n",
    "\n",
    "\n",
    "        end_time = T.time()\n",
    "        TIME = end_time - start_time\n",
    "        print('time: {:.1f} secs, {:.1f} mins,{:.1f} hours'.format(TIME,TIME/60,TIME/3600))\n",
    "        date_time_now = date_time_now + date_t"
   ]
  },
  {
   "cell_type": "markdown",
   "id": "d21fbe6d-34cd-4e20-8a83-754111e280d9",
   "metadata": {},
   "source": [
    "# Fitting Least squares / Multiple linear regression"
   ]
  },
  {
   "cell_type": "code",
   "execution_count": 9,
   "id": "6153b4a2-c60d-414a-9f98-03bdde9d5f48",
   "metadata": {},
   "outputs": [],
   "source": [
    "def fitting(i,j):\n",
    "    r = np.array(Ref)[:,i,j].reshape(-1,1)\n",
    "    cm = ~np.isnan(r)\n",
    "    r = r[cm].reshape(-1,1)\n",
    "    k = np.hstack((np.array(kvol)[:,i,j].reshape(-1,1)[cm].reshape(-1,1),np.array(kgeo)[:,i,j].reshape(-1,1)[cm].reshape(-1,1)))\n",
    "    if r.size > 54 and not np.isnan(r[0]):\n",
    "        linreg = LinearRegression()\n",
    "        model=linreg.fit(k, r)\n",
    "        fi = linreg.intercept_[0]\n",
    "        fv, fg = linreg.coef_[0]\n",
    "        return fi,fv,fg\n",
    "    else:\n",
    "        return np.nan,np.nan,np.nan"
   ]
  },
  {
   "cell_type": "code",
   "execution_count": 11,
   "id": "9ebac671-7145-420c-a204-bc72ca53cef1",
   "metadata": {
    "tags": []
   },
   "outputs": [],
   "source": [
    "result = Parallel(n_jobs=25)(delayed(fitting)(i,j) for i in range(200) for j in range(300))"
   ]
  },
  {
   "cell_type": "markdown",
   "id": "4df82b3a-d272-4634-a184-f812dd829592",
   "metadata": {},
   "source": [
    "# Fitting Result"
   ]
  },
  {
   "cell_type": "code",
   "execution_count": 12,
   "id": "de776079-9365-4258-96af-e50ffc6bb535",
   "metadata": {
    "collapsed": true,
    "jupyter": {
     "outputs_hidden": true
    },
    "tags": []
   },
   "outputs": [
    {
     "name": "stdout",
     "output_type": "stream",
     "text": [
      "[[       nan        nan        nan ... 0.06533023        nan        nan]\n",
      " [       nan        nan        nan ...        nan        nan        nan]\n",
      " [       nan        nan        nan ...        nan        nan        nan]\n",
      " ...\n",
      " [       nan        nan        nan ...        nan        nan        nan]\n",
      " [       nan        nan        nan ...        nan        nan        nan]\n",
      " [       nan        nan        nan ...        nan        nan        nan]]\n",
      "[[        nan         nan         nan ... -0.34955976         nan\n",
      "          nan]\n",
      " [        nan         nan         nan ...         nan         nan\n",
      "          nan]\n",
      " [        nan         nan         nan ...         nan         nan\n",
      "          nan]\n",
      " ...\n",
      " [        nan         nan         nan ...         nan         nan\n",
      "          nan]\n",
      " [        nan         nan         nan ...         nan         nan\n",
      "          nan]\n",
      " [        nan         nan         nan ...         nan         nan\n",
      "          nan]]\n",
      "[[       nan        nan        nan ... 0.14082167        nan        nan]\n",
      " [       nan        nan        nan ...        nan        nan        nan]\n",
      " [       nan        nan        nan ...        nan        nan        nan]\n",
      " ...\n",
      " [       nan        nan        nan ...        nan        nan        nan]\n",
      " [       nan        nan        nan ...        nan        nan        nan]\n",
      " [       nan        nan        nan ...        nan        nan        nan]]\n"
     ]
    }
   ],
   "source": [
    "fiso = np.array(result)[:,0].reshape(200,300)\n",
    "fvol = np.array(result)[:,1].reshape(200,300)\n",
    "fgeo = np.array(result)[:,2].reshape(200,300)\n",
    "print(fiso)\n",
    "print(fvol)\n",
    "print(fgeo)"
   ]
  },
  {
   "cell_type": "code",
   "execution_count": 134,
   "id": "531ae2a8-24c9-42ed-bbf3-d992deeb1614",
   "metadata": {
    "collapsed": true,
    "jupyter": {
     "outputs_hidden": true
    },
    "tags": []
   },
   "outputs": [
    {
     "name": "stdout",
     "output_type": "stream",
     "text": [
      "2018-07-21 00:00:00\n",
      "time: 22.8 secs, 0.4 mins,0.0 hours\n",
      "2018-07-21 00:10:00\n",
      "time: 6.3 secs, 0.1 mins,0.0 hours\n",
      "2018-07-21 00:20:00\n",
      "time: 6.6 secs, 0.1 mins,0.0 hours\n",
      "2018-07-21 00:30:00\n",
      "time: 7.3 secs, 0.1 mins,0.0 hours\n",
      "2018-07-21 00:40:00\n",
      "time: 6.9 secs, 0.1 mins,0.0 hours\n",
      "2018-07-21 00:50:00\n",
      "time: 6.9 secs, 0.1 mins,0.0 hours\n",
      "2018-07-21 01:00:00\n",
      "time: 7.3 secs, 0.1 mins,0.0 hours\n",
      "2018-07-21 01:10:00\n",
      "time: 7.3 secs, 0.1 mins,0.0 hours\n",
      "2018-07-21 01:20:00\n",
      "time: 6.6 secs, 0.1 mins,0.0 hours\n",
      "2018-07-21 01:30:00\n",
      "time: 7.2 secs, 0.1 mins,0.0 hours\n",
      "2018-07-21 01:40:00\n",
      "time: 7.4 secs, 0.1 mins,0.0 hours\n",
      "2018-07-21 01:50:00\n",
      "time: 6.0 secs, 0.1 mins,0.0 hours\n",
      "2018-07-21 02:00:00\n",
      "time: 8.2 secs, 0.1 mins,0.0 hours\n",
      "2018-07-21 02:10:00\n",
      "time: 7.6 secs, 0.1 mins,0.0 hours\n",
      "2018-07-21 02:20:00\n",
      "time: 7.9 secs, 0.1 mins,0.0 hours\n",
      "2018-07-21 02:30:00\n",
      "time: 7.1 secs, 0.1 mins,0.0 hours\n",
      "2018-07-21 02:40:00\n",
      "2018-07-21 02:50:00\n",
      "time: 6.8 secs, 0.1 mins,0.0 hours\n",
      "2018-07-21 03:00:00\n",
      "time: 10.3 secs, 0.2 mins,0.0 hours\n",
      "2018-07-21 03:10:00\n",
      "time: 9.6 secs, 0.2 mins,0.0 hours\n",
      "2018-07-21 03:20:00\n",
      "time: 8.9 secs, 0.1 mins,0.0 hours\n",
      "2018-07-21 03:30:00\n",
      "time: 8.7 secs, 0.1 mins,0.0 hours\n",
      "2018-07-21 03:40:00\n",
      "time: 9.1 secs, 0.2 mins,0.0 hours\n",
      "2018-07-21 03:50:00\n",
      "time: 9.9 secs, 0.2 mins,0.0 hours\n",
      "2018-07-21 04:00:00\n",
      "time: 9.0 secs, 0.1 mins,0.0 hours\n",
      "2018-07-21 04:10:00\n",
      "time: 9.7 secs, 0.2 mins,0.0 hours\n",
      "2018-07-21 04:20:00\n",
      "time: 9.1 secs, 0.2 mins,0.0 hours\n",
      "2018-07-21 04:30:00\n",
      "time: 8.3 secs, 0.1 mins,0.0 hours\n",
      "2018-07-21 04:40:00\n",
      "time: 9.5 secs, 0.2 mins,0.0 hours\n",
      "2018-07-21 04:50:00\n",
      "time: 9.0 secs, 0.2 mins,0.0 hours\n",
      "2018-07-21 05:00:00\n",
      "time: 9.3 secs, 0.2 mins,0.0 hours\n",
      "2018-07-21 05:10:00\n",
      "time: 9.9 secs, 0.2 mins,0.0 hours\n",
      "2018-07-21 05:20:00\n",
      "time: 9.6 secs, 0.2 mins,0.0 hours\n",
      "2018-07-21 05:30:00\n",
      "time: 8.4 secs, 0.1 mins,0.0 hours\n",
      "2018-07-21 05:40:00\n",
      "time: 9.2 secs, 0.2 mins,0.0 hours\n",
      "2018-07-21 05:50:00\n",
      "time: 8.9 secs, 0.1 mins,0.0 hours\n",
      "2018-07-21 06:00:00\n",
      "time: 8.7 secs, 0.1 mins,0.0 hours\n"
     ]
    }
   ],
   "source": [
    "def Kernel_value(band,idx_row,idx_col): \n",
    "    if band == 3:\n",
    "        kvol = Volume_Kernel(640,lat[idx_row],lon[idx_col],MJD,np.cos(np.radians(SZA[idx_row,idx_col])),np.cos(np.radians(VZA[idx_row,idx_col])),np.cos(np.radians(RAA[idx_row,idx_col])))\n",
    "        kgeo = Geometric_Kernel(640,lat[idx_row],lon[idx_col],MJD,np.cos(np.radians(SZA[idx_row,idx_col])),np.cos(np.radians(VZA[idx_row,idx_col])),np.cos(np.radians(RAA[idx_row,idx_col])))\n",
    "        return kvol,kgeo\n",
    "    elif band == 4:\n",
    "        kvol = Volume_Kernel(860,lat[idx_row],lon[idx_col],MJD,np.cos(np.radians(SZA[idx_row,idx_col])),np.cos(np.radians(VZA[idx_row,idx_col])),np.cos(np.radians(RAA[idx_row,idx_col])))\n",
    "        kgeo = Geometric_Kernel(860,lat[idx_row],lon[idx_col],MJD,np.cos(np.radians(SZA[idx_row,idx_col])),np.cos(np.radians(VZA[idx_row,idx_col])),np.cos(np.radians(RAA[idx_row,idx_col])))\n",
    "        return kvol,kgeo\n",
    "    \n",
    "    \n",
    "# kvol_valid = []\n",
    "# kgeo_valid = []\n",
    "# Ref_valid = []\n",
    "SZA_valid = []\n",
    "for d in range(21,22):\n",
    "    \n",
    "\n",
    "    date_start = '2018-07-{} 00:00'.format(str(d))\n",
    "    date_end = '2018-07-{} 06:00'.format(str(d))\n",
    "    date_t = dt.timedelta(minutes=10)\n",
    "    # date_t = dt.timedelta(minutes=30)\n",
    "    date_s = dt.datetime.strptime(date_start, \"%Y-%m-%d %H:%M\")\n",
    "    date_e = dt.datetime.strptime(date_end, \"%Y-%m-%d %H:%M\")\n",
    "    date_time_now = date_s\n",
    "    b = 3\n",
    "    # time_list = []\n",
    "    while date_time_now <= date_e:\n",
    "        print(date_time_now)\n",
    "        start_time = T.time()\n",
    "        YYYY,MM,DD,HH,MIN,date= Time_split(date_time_now)\n",
    "        c_o_mask = Mask_Merge(date)\n",
    "    \n",
    "        SR,RAA,SZA = Get_Kernel_Input_Parameter(date,b)\n",
    "        SZA_valid.append(SZA)\n",
    "        if SR[0][0] == 'N':\n",
    "            date_time_now = date_time_now + date_t\n",
    "            continue\n",
    "        # MJD = time2mjd(date_time_now)\n",
    "        # Kresult = Parallel(n_jobs=30)(delayed(Kernel_value)(b,i,j) for i in range(200) for j in range(300))\n",
    "        \n",
    "        # kvol_current = np.array(Kresult)[:,0].reshape(200,300)\n",
    "        # kgeo_current = np.array(Kresult)[:,1].reshape(200,300)\n",
    "        # Ref_current =  SR\n",
    "        # kvol_valid.append(kvol_current)\n",
    "        # kgeo_valid.append(kgeo_current)\n",
    "        # Ref_valid.append(Ref_current)\n",
    "        end_time = T.time()\n",
    "        TIME = end_time - start_time\n",
    "        print('time: {:.1f} secs, {:.1f} mins,{:.1f} hours'.format(TIME,TIME/60,TIME/3600))\n",
    "        date_time_now = date_time_now + date_t"
   ]
  },
  {
   "cell_type": "code",
   "execution_count": 9,
   "id": "ce32b4c9-6dbd-4d25-ae4a-6bd841dac9b8",
   "metadata": {},
   "outputs": [],
   "source": [
    "# Check Landcover"
   ]
  },
  {
   "cell_type": "code",
   "execution_count": 423,
   "id": "c8ac5bdd-a4e9-4927-84da-2911d8131d06",
   "metadata": {},
   "outputs": [
    {
     "data": {
      "text/plain": [
       "array([[ 5,  5,  5,  5,  5,  1,  1,  5,  5,  1],\n",
       "       [ 5,  5,  5,  5,  5,  1,  1,  1,  1,  1],\n",
       "       [ 5,  5,  1,  1,  1,  1,  1,  1,  1,  2],\n",
       "       [ 5,  5,  5,  1,  1,  5,  1,  1,  2,  2],\n",
       "       [ 1,  1,  1,  1,  1,  1,  2,  2,  5,  5],\n",
       "       [ 1,  1,  5,  5,  2,  2,  5,  5,  2,  2],\n",
       "       [ 1,  1,  1,  1,  2,  5,  5,  5,  5,  5],\n",
       "       [ 1,  1,  1,  2,  5,  2,  5,  5,  1,  1],\n",
       "       [ 1,  2,  2,  5,  1,  5,  5,  5,  1,  1],\n",
       "       [ 2, 10,  5,  2,  1,  1,  1,  2,  5,  5]], dtype=uint8)"
      ]
     },
     "execution_count": 423,
     "metadata": {},
     "output_type": "execute_result"
    }
   ],
   "source": [
    "\n",
    "# with open( '/data01/people/liwei/Data/Landcover/MCD12Q1.006.LC.CEReS_H8AHI.01km.MEAN.NA.ann.bsq.byt','rb') as fp:      \n",
    "#     Landcover = np.frombuffer(fp.read(),dtype='uint8').reshape(12000, 12000)\n",
    "Landcover[2550:2750,4700:5000][i_idx-r:i_idx+r,j_idx-r:j_idx+r]"
   ]
  },
  {
   "cell_type": "code",
   "execution_count": 422,
   "id": "8ed44fac-e44f-47b5-afca-9691db52ca73",
   "metadata": {},
   "outputs": [],
   "source": [
    "i_idx,j_idx = 79,185\n",
    "r = 5\n",
    "X = np.array(Ref_valid)[0:36,i_idx-r:i_idx+r,j_idx-r:j_idx+r]\n",
    "Y = fiso[i_idx-r:i_idx+r,j_idx-r:j_idx+r] + np.array(kvol_valid)[0:36,i_idx-r:i_idx+r,j_idx-r:j_idx+r]*fvol[i_idx-r:i_idx+r,j_idx-r:j_idx+r] + np.array(kgeo_valid)[0:36,i_idx-r:i_idx+r,j_idx-r:j_idx+r]*fgeo[i_idx-r:i_idx+r,j_idx-r:j_idx+r]"
   ]
  },
  {
   "cell_type": "code",
   "execution_count": 124,
   "id": "c83b5635-28e9-431c-8f08-26086a23b973",
   "metadata": {},
   "outputs": [],
   "source": [
    "import matplotlib.colors as mcolors    \n",
    "color_list = list(mcolors.CSS4_COLORS)"
   ]
  },
  {
   "cell_type": "code",
   "execution_count": 425,
   "id": "30f40059-318c-40cc-bf27-820a1cbd1d93",
   "metadata": {
    "tags": []
   },
   "outputs": [
    {
     "data": {
      "text/plain": [
       "(0.0, 0.6)"
      ]
     },
     "execution_count": 425,
     "metadata": {},
     "output_type": "execute_result"
    },
    {
     "data": {
      "image/png": "[encoded data removed]",
      "text/plain": [
       "<Figure size 1152x288 with 1 Axes>"
      ]
     },
     "metadata": {
      "needs_background": "light"
     },
     "output_type": "display_data"
    }
   ],
   "source": [
    "axis_min = 0\n",
    "axis_max = 0.6\n",
    "\n",
    "fig = plt.figure(figsize=(16,4))\n",
    "ax1 = fig.add_subplot(111)\n",
    "\n",
    "\n",
    "ax1.tick_params(axis=\"y\",which='major',length=10,direction='in',labelsize=8)\n",
    "ax1.tick_params(axis=\"x\",which='major',length=10,direction='in',labelsize=8)\n",
    "\n",
    "\n",
    "ax1.spines['right'].set_color('none')\n",
    "ax1.spines['top'].set_color('none')\n",
    "\n",
    "# ax1.plot(label,X,color = 'k',marker=\"o\",markersize=1,linewidth=1,label='Ref')\n",
    "for i in range(2*r):\n",
    "    for j in range(2*r):\n",
    "        ax1.plot(label,Y[:,i,j],color = 'r',marker=\"o\",markersize=1,linewidth=1,label='{},{}'.format(i,j))\n",
    "\n",
    "\n",
    "# ax1.set_xticks(np.linspace(0,105,106))\n",
    "ax1.set_yticks(np.arange(axis_min+0.1,1.1,0.1))\n",
    "\n",
    "ax1.set_xlabel(\"Local Obs Time \",fontsize=10)\n",
    "ax1.set_ylabel(\"BRDF fitting Ref\",fontsize=10)\n",
    "\n",
    "\n",
    "\n",
    "text_x = axis_min + (axis_max - axis_min) * 0.07\n",
    "text_y = axis_max - (axis_max - axis_min) * 0.22\n",
    "\n",
    "ax1.set_xlim(axis_min,36)\n",
    "ax1.set_ylim(axis_min,axis_max)\n",
    "# plt.legend()"
   ]
  },
  {
   "cell_type": "code",
   "execution_count": 382,
   "id": "29b20009-7544-4d54-9c4b-48aec1ff3aca",
   "metadata": {},
   "outputs": [],
   "source": [
    "from sklearn.metrics import r2_score,mean_squared_error\n",
    "def add_right_cax(ax, pad, width):\n",
    "\n",
    "    axpos = ax.get_position()\n",
    "    caxpos = mtransforms.Bbox.from_extents(\n",
    "        axpos.x1 + pad,\n",
    "        axpos.y0,\n",
    "        axpos.x1 + pad + width,\n",
    "        axpos.y1\n",
    "    )\n",
    "    cax = ax.figure.add_axes(caxpos)\n",
    "\n",
    "    return cax\n",
    "def identifer(li):\n",
    "    result = []\n",
    "    for a in li:\n",
    "        mean = np.nanmean(a)\n",
    "        std = np.nanstd(a) \n",
    "        down = mean - 3 * std\n",
    "        up =  mean + 3 * std\n",
    "        n_a = np.where(a < down,np.nan,a)\n",
    "        n_a = np.where(n_a > up,np.nan,n_a)\n",
    "        result.append(n_a)\n",
    "    return result"
   ]
  },
  {
   "cell_type": "code",
   "execution_count": null,
   "id": "b062b918-8222-424b-b135-40ecaf049572",
   "metadata": {},
   "outputs": [],
   "source": [
    "np.array(Ref).shape"
   ]
  },
  {
   "cell_type": "code",
   "execution_count": null,
   "id": "5a20ca56-8f7a-4dec-bce4-6e185166f28f",
   "metadata": {
    "tags": []
   },
   "outputs": [],
   "source": [
    "DAY = 2\n",
    "\n",
    "X = np.array(Ref)[0:35,:,:]\n",
    "Y = fiso[:,:] + np.array(kvol)[0:35,:,:]*fvol[:,:] + np.array(kgeo)[0:35,:,:]*fgeo[:,:]\n",
    "\n",
    "nan_mask = ~np.isnan(X.reshape(-1))\n",
    "X = X.reshape(-1)[nan_mask]\n",
    "Y = Y.reshape(-1)[nan_mask]\n",
    "\n",
    "nan_mask = ~np.isnan(Y.reshape(-1))\n",
    "X = X.reshape(-1)[nan_mask]\n",
    "Y = Y.reshape(-1)[nan_mask]\n",
    "\n",
    "\n",
    "# rmse = np.sqrt(mean_squared_error(X ,Y))\n",
    "p = np.polyfit(X ,Y,1)    \n",
    "\n",
    "k = round(p[0],2)\n",
    "b = round(p[1],2)\n",
    "rmse = round(rmse.astype('float64'),3)\n",
    "\n",
    "axis_min = 0\n",
    "axis_max = 1\n",
    "\n",
    "fig = plt.figure(figsize=(4,4))\n",
    "ax1 = fig.add_subplot(111,aspect='equal')\n",
    "\n",
    "x = np.arange(axis_min,axis_max+1)\n",
    "y = 1 * x\n",
    "\n",
    "xx = np.arange(0,1+0.1,0.05) \n",
    "yy = k * xx + b\n",
    "\n",
    "# Calculate the point density\n",
    "xy = np.vstack([X,Y])\n",
    "z = gaussian_kde(xy)(xy)\n",
    "\n",
    "# Sort the points by density, so that the densest points are plotted last\n",
    "idx = z.argsort()\n",
    "X, Y, z = X[idx], Y[idx], z[idx]\n",
    "\n",
    "ax1.minorticks_on()\n",
    "# x_major_locator = plt.MultipleLocator(5)\n",
    "x_minor_locator = plt.MultipleLocator(0.05)\n",
    "ax1.xaxis.set_minor_locator(x_minor_locator)\n",
    "# ax.xaxis.set_major_locator(x_major_locator)\n",
    "ax1.yaxis.set_minor_locator(x_minor_locator)\n",
    "# ax.yaxis.set_major_locator(x_major_locator)\n",
    "\n",
    "ax1.tick_params(axis=\"y\",which='minor',length=5,direction='in',labelsize=8)\n",
    "ax1.tick_params(axis=\"y\",which='major',length=10,direction='in',labelsize=8)\n",
    "\n",
    "ax1.tick_params(axis=\"x\",which='minor',length=5,direction='in',labelsize=8)\n",
    "ax1.tick_params(axis=\"x\",which='major',length=10,direction='in',labelsize=8)\n",
    "\n",
    "\n",
    "ax1.spines['right'].set_color('none')\n",
    "ax1.spines['top'].set_color('none')\n",
    "\n",
    "\n",
    "im = ax1.scatter(X,Y,marker='o', c=z,s=15,cmap='Spectral_r')\n",
    "# im = ax1.scatter(X,Y,marker='o', c='k',s=15)\n",
    "\n",
    "ax1.set_xticks(np.arange(axis_min,axis_max+0.1,0.1))\n",
    "ax1.set_yticks(np.arange(axis_min+0.1,axis_max+0.1,0.1))\n",
    "\n",
    "ax1.set_xlabel(\"AHI Ref \",fontsize=10)\n",
    "ax1.set_ylabel(\"BRDF fitting Ref\",fontsize=10)\n",
    "\n",
    "\n",
    "ax1.plot(x,y,color='k',linewidth=2,linestyle='-',alpha=0.6)\n",
    "ax1.plot(xx,yy,color='r',linewidth=2,linestyle='-') \n",
    "\n",
    "\n",
    "text_x = axis_min + (axis_max - axis_min) * 0.07\n",
    "text_y = axis_max - (axis_max - axis_min) * 0.22\n",
    "\n",
    "ax1.text(text_x,text_y,s = 'N = {}\\nRMSE = {}\\ny = {} + {}x'.format(len(X),rmse,b,k),fontsize=8)\n",
    "\n",
    "cax = add_right_cax(ax1, pad=0.06, width=0.03)\n",
    "cb = fig.colorbar(im,cax=cax)\n",
    "cb.ax.set_xlabel('Count',rotation=360)\n",
    "ax1.set_xlim(axis_min,axis_max)\n",
    "ax1.set_ylim(axis_min,axis_max)"
   ]
  },
  {
   "cell_type": "markdown",
   "id": "362edb0b-a957-4ea5-904c-95b0b8fb3918",
   "metadata": {
    "tags": []
   },
   "source": [
    "# Pandas"
   ]
  },
  {
   "cell_type": "code",
   "execution_count": 612,
   "id": "012a318c-eeef-4fa5-ac2c-306d6ae91bda",
   "metadata": {},
   "outputs": [],
   "source": [
    "import pandas as pd"
   ]
  },
  {
   "cell_type": "code",
   "execution_count": 624,
   "id": "0ec865bb-5ec7-4357-8ae0-3123f6f1ed5a",
   "metadata": {},
   "outputs": [],
   "source": [
    "FISO = fiso.reshape(-1)[~np.isnan(fiso.reshape(-1))]"
   ]
  },
  {
   "cell_type": "code",
   "execution_count": 625,
   "id": "16ef876a-191a-4269-9885-74d03398f6f1",
   "metadata": {},
   "outputs": [
    {
     "data": {
      "text/html": [
       "<div>\n",
       "<style scoped>\n",
       "    .dataframe tbody tr th:only-of-type {\n",
       "        vertical-align: middle;\n",
       "    }\n",
       "\n",
       "    .dataframe tbody tr th {\n",
       "        vertical-align: top;\n",
       "    }\n",
       "\n",
       "    .dataframe thead th {\n",
       "        text-align: right;\n",
       "    }\n",
       "</style>\n",
       "<table border=\"1\" class=\"dataframe\">\n",
       "  <thead>\n",
       "    <tr style=\"text-align: right;\">\n",
       "      <th></th>\n",
       "      <th>0</th>\n",
       "    </tr>\n",
       "  </thead>\n",
       "  <tbody>\n",
       "    <tr>\n",
       "      <th>count</th>\n",
       "      <td>21040.000000</td>\n",
       "    </tr>\n",
       "    <tr>\n",
       "      <th>mean</th>\n",
       "      <td>0.380917</td>\n",
       "    </tr>\n",
       "    <tr>\n",
       "      <th>std</th>\n",
       "      <td>32.345422</td>\n",
       "    </tr>\n",
       "    <tr>\n",
       "      <th>min</th>\n",
       "      <td>-1588.200322</td>\n",
       "    </tr>\n",
       "    <tr>\n",
       "      <th>25%</th>\n",
       "      <td>-0.096191</td>\n",
       "    </tr>\n",
       "    <tr>\n",
       "      <th>50%</th>\n",
       "      <td>0.193482</td>\n",
       "    </tr>\n",
       "    <tr>\n",
       "      <th>75%</th>\n",
       "      <td>0.594255</td>\n",
       "    </tr>\n",
       "    <tr>\n",
       "      <th>max</th>\n",
       "      <td>1221.407705</td>\n",
       "    </tr>\n",
       "  </tbody>\n",
       "</table>\n",
       "</div>"
      ],
      "text/plain": [
       "                  0\n",
       "count  21040.000000\n",
       "mean       0.380917\n",
       "std       32.345422\n",
       "min    -1588.200322\n",
       "25%       -0.096191\n",
       "50%        0.193482\n",
       "75%        0.594255\n",
       "max     1221.407705"
      ]
     },
     "execution_count": 625,
     "metadata": {},
     "output_type": "execute_result"
    }
   ],
   "source": [
    "df = pd.DataFrame(FISO)\n",
    "df.describe()"
   ]
  },
  {
   "cell_type": "code",
   "execution_count": 35,
   "id": "10fe50e2-cbda-4073-a503-cbb0f568b708",
   "metadata": {
    "tags": []
   },
   "outputs": [
    {
     "data": {
      "image/png": "[encoded data removed]",
      "text/plain": [
       "<Figure size 432x432 with 1 Axes>"
      ]
     },
     "metadata": {
      "needs_background": "light"
     },
     "output_type": "display_data"
    }
   ],
   "source": [
    "FISO = fiso.reshape(-1)[~np.isnan(fiso.reshape(-1))]\n",
    "fig = plt.figure(figsize=(6,6))\n",
    "plt.boxplot(FISO,showfliers = False,labels=['fiso'])\n",
    "plt.title('fiso',fontsize = 20)\n",
    "plt.grid(linestyle=\"--\", alpha=0.3)\n",
    "# plt.ylabel('atm – cm',fontsize = 12)\n",
    "# plt.savefig('AOT550.jpg',dpi = 1000)\n",
    "plt.show()"
   ]
  },
  {
   "cell_type": "code",
   "execution_count": 36,
   "id": "8a1c664d-227d-43af-b070-47ea255b21d9",
   "metadata": {},
   "outputs": [
    {
     "data": {
      "image/png": "[encoded data removed]",
      "text/plain": [
       "<Figure size 432x432 with 1 Axes>"
      ]
     },
     "metadata": {
      "needs_background": "light"
     },
     "output_type": "display_data"
    }
   ],
   "source": [
    "FGEO = fgeo.reshape(-1)[~np.isnan(fgeo.reshape(-1))]\n",
    "fig = plt.figure(figsize=(6,6))\n",
    "plt.boxplot(FGEO,showfliers = False,labels=['fgeo'])\n",
    "plt.title('fgeo',fontsize = 20)\n",
    "plt.grid(linestyle=\"--\", alpha=0.3)\n",
    "# plt.ylabel('atm – cm',fontsize = 12)\n",
    "# plt.savefig('AOT550.jpg',dpi = 1000)\n",
    "plt.show()"
   ]
  },
  {
   "cell_type": "code",
   "execution_count": 37,
   "id": "128db420-44be-4f8c-9802-3197caba6151",
   "metadata": {},
   "outputs": [
    {
     "data": {
      "image/png": "[encoded data removed]",
      "text/plain": [
       "<Figure size 432x432 with 1 Axes>"
      ]
     },
     "metadata": {
      "needs_background": "light"
     },
     "output_type": "display_data"
    }
   ],
   "source": [
    "FVOL = fvol.reshape(-1)[~np.isnan(fvol.reshape(-1))]\n",
    "fig = plt.figure(figsize=(6,6))\n",
    "plt.boxplot(FVOL,showfliers = False,labels=['fvol'])\n",
    "plt.title('fvol',fontsize = 20)\n",
    "plt.grid(linestyle=\"--\", alpha=0.3)\n",
    "# plt.ylabel('atm – cm',fontsize = 12)\n",
    "# plt.savefig('AOT550.jpg',dpi = 1000)\n",
    "plt.show()"
   ]
  },
  {
   "cell_type": "code",
   "execution_count": 13,
   "id": "caa33ff7-0096-4340-8699-5932599f17ed",
   "metadata": {},
   "outputs": [
    {
     "data": {
      "text/plain": [
       "<matplotlib.colorbar.Colorbar at 0x7f03e2814fa0>"
      ]
     },
     "execution_count": 13,
     "metadata": {},
     "output_type": "execute_result"
    },
    {
     "data": {
      "image/png": "[encoded data removed]",
      "text/plain": [
       "<Figure size 432x288 with 2 Axes>"
      ]
     },
     "metadata": {
      "needs_background": "light"
     },
     "output_type": "display_data"
    }
   ],
   "source": [
    "plt.imshow(fgeo,interpolation=None,cmap='gray')\n",
    "plt.colorbar()"
   ]
  },
  {
   "cell_type": "code",
   "execution_count": 44,
   "id": "3d9b488f-d466-4573-a251-53d27b6fd4b3",
   "metadata": {},
   "outputs": [
    {
     "data": {
      "text/plain": [
       "<matplotlib.colorbar.Colorbar at 0x7f6cff8972b0>"
      ]
     },
     "execution_count": 44,
     "metadata": {},
     "output_type": "execute_result"
    },
    {
     "data": {
      "image/png": "[encoded data removed]",
      "text/plain": [
       "<Figure size 432x288 with 2 Axes>"
      ]
     },
     "metadata": {
      "needs_background": "light"
     },
     "output_type": "display_data"
    }
   ],
   "source": [
    "plt.imshow(fiso,interpolation=None,cmap='gray')\n",
    "plt.colorbar()"
   ]
  },
  {
   "cell_type": "code",
   "execution_count": 45,
   "id": "797319b8-254b-4413-a148-16d5fb602847",
   "metadata": {},
   "outputs": [
    {
     "data": {
      "text/plain": [
       "<matplotlib.colorbar.Colorbar at 0x7f6cff7d15e0>"
      ]
     },
     "execution_count": 45,
     "metadata": {},
     "output_type": "execute_result"
    },
    {
     "data": {
      "image/png": "[encoded data removed]",
      "text/plain": [
       "<Figure size 432x288 with 2 Axes>"
      ]
     },
     "metadata": {
      "needs_background": "light"
     },
     "output_type": "display_data"
    }
   ],
   "source": [
    "plt.imshow(fvol,interpolation=None,cmap='gray')\n",
    "plt.colorbar()"
   ]
  },
  {
   "cell_type": "code",
   "execution_count": 92,
   "id": "bd2e97cf-0518-410c-b5f1-bc667f854747",
   "metadata": {
    "tags": []
   },
   "outputs": [],
   "source": [
    "date_start = '2018-07-22 09:00'\n",
    "date_end = '2018-07-22 15:00'\n",
    "date_t = dt.timedelta(minutes=10)\n",
    "# date_t = dt.timedelta(minutes=30)\n",
    "date_s = dt.datetime.strptime(date_start, \"%Y-%m-%d %H:%M\")\n",
    "date_e = dt.datetime.strptime(date_end, \"%Y-%m-%d %H:%M\")\n",
    "date_time_now = date_s\n",
    "label = []\n",
    "while date_time_now <= date_e:\n",
    "    # print(date_time_now)\n",
    "    start_time = T.time()\n",
    "    YYYY,MM,DD,HH,MIN,date= Time_split(date_time_now)\n",
    "    label.append(HH+MIN)\n",
    "    date_time_now = date_time_now + date_t"
   ]
  },
  {
   "cell_type": "code",
   "execution_count": 93,
   "id": "c1f873a3-11f1-47df-a416-b142ffd5e381",
   "metadata": {},
   "outputs": [],
   "source": [
    "del(label[16])"
   ]
  },
  {
   "cell_type": "code",
   "execution_count": 94,
   "id": "23e2f3a7-faac-4a7c-a518-19913cf68d2e",
   "metadata": {
    "collapsed": true,
    "jupyter": {
     "outputs_hidden": true
    },
    "tags": []
   },
   "outputs": [
    {
     "data": {
      "text/plain": [
       "['0900',\n",
       " '0910',\n",
       " '0920',\n",
       " '0930',\n",
       " '0940',\n",
       " '0950',\n",
       " '1000',\n",
       " '1010',\n",
       " '1020',\n",
       " '1030',\n",
       " '1040',\n",
       " '1050',\n",
       " '1100',\n",
       " '1110',\n",
       " '1120',\n",
       " '1130',\n",
       " '1150',\n",
       " '1200',\n",
       " '1210',\n",
       " '1220',\n",
       " '1230',\n",
       " '1240',\n",
       " '1250',\n",
       " '1300',\n",
       " '1310',\n",
       " '1320',\n",
       " '1330',\n",
       " '1340',\n",
       " '1350',\n",
       " '1400',\n",
       " '1410',\n",
       " '1420',\n",
       " '1430',\n",
       " '1440',\n",
       " '1450',\n",
       " '1500']"
      ]
     },
     "execution_count": 94,
     "metadata": {},
     "output_type": "execute_result"
    }
   ],
   "source": [
    "label"
   ]
  },
  {
   "cell_type": "markdown",
   "id": "75c7071e-17f8-43f1-9456-922507e69df5",
   "metadata": {},
   "source": [
    "# Read SGLI"
   ]
  },
  {
   "cell_type": "code",
   "execution_count": 421,
   "id": "b9616049-7615-430b-8be4-496ddc588b2d",
   "metadata": {},
   "outputs": [],
   "source": [
    "import numpy as np\n",
    "import math\n",
    "import os\n",
    "from osgeo import gdal\n",
    "import xarray as xr\n",
    "from skimage.measure import block_reduce\n",
    "from ftplib import FTP\n",
    "import subprocess\n",
    "import rioxarray\n",
    "import time as T\n",
    "import datetime\n",
    "import ephem\n",
    "import numpy.ma as ma\n",
    "import datetime as dt\n",
    "from joblib import Parallel, delayed\n",
    "\n",
    "def calc_sunpos(dtime,lat,lon):\n",
    "    sun = ephem.Sun()\n",
    "    obs = ephem.Observer()\n",
    "    obs.date = dtime\n",
    "    obs.lat = lat*math.pi/180.0\n",
    "    obs.long = lon*math.pi/180.0\n",
    "    sun.compute(obs)\n",
    "    return np.degrees(sun.az),90.0-np.degrees(sun.alt)\n",
    "\n",
    "\n",
    "class SGLI_L2_Downloader:\n",
    "    \n",
    "    def __init__ (self, User_ID , ProductName, Ver, Date , Tile , Obrit ,ParaVer, Target_path):\n",
    "        self.User_ID = User_ID\n",
    "        self.ProductName = ProductName\n",
    "        self.Ver = Ver\n",
    "        self.Date = Date\n",
    "        self.Tile = Tile\n",
    "        self.Obrit = Obrit\n",
    "        self.ParaVer = ParaVer\n",
    "        self.Target_path = Target_path\n",
    "        \n",
    "        \n",
    "    def path (self):\n",
    "        return '/standard/GCOM-C/GCOM-C.SGLI/L2.LAND.{}/{}/{}/{}/{}'.format(self.ProductName, self.Ver, self.Date[0:4], self.Date[4:6], self.Date[6:8])\n",
    "\n",
    "    def filename (self):\n",
    "        return 'GC1SG1_{}{}01D_T{}_L2SG_{}Q_{}00{}.h5'.format(self.Date, self.Obrit, self.Tile, self.ProductName, self.Ver, self.ParaVer)\n",
    "    \n",
    "    def login (self):\n",
    "        ftp_addr = 'ftp.gportal.jaxa.jp'\n",
    "        f = FTP(ftp_addr)\n",
    "        f.login(self.User_ID,'anonymous')\n",
    "        \n",
    "        return f\n",
    "    \n",
    "    def download (self, f):\n",
    "        remote_filepath = self.path()\n",
    "        f.cwd(remote_filepath)\n",
    "        list=f.nlst()\n",
    "        \n",
    "        bufsize=1024\n",
    "        if self.filename() in list:\n",
    "            data = open ('{}{}'.format(self.Target_path, self.filename()), 'wb')\n",
    "            filename = 'RETR ' + self.filename()\n",
    "            f.retrbinary(filename,data.write,bufsize)\n",
    "            return 'y'\n",
    "        else:\n",
    "            return 'n'\n",
    "    \n",
    "    def logout (self, f):\n",
    "        f.quit()\n",
    "    \n",
    "def reporjection_GEO(filename,Band,Target_path):\n",
    "    \n",
    "    #print(path)\n",
    "    p = subprocess.Popen('/data01/people/liwei/Data/GCOM-C_RSRF/SGLI_geo_map_linux.exe {} -d Geometry_data/{} -o {} -r 0 -s 30'.format(filename,Band,Target_path[:-1]),shell=True)\n",
    "    p.communicate()\n",
    "    # subprocess.check_output('/data01/people/liwei/Data/GCOM-C_RSRF/SGLI_geo_map_linux.exe {} -d Geometry_data/{} -o {} -s 7.5'.format(filename,Band,Target_path[:-1]), shell=True) \n",
    "    \n",
    "def mkdir(path):\n",
    "    folder = os.path.exists(path) \n",
    "    if not folder:\n",
    "        os.makedirs(path)\n",
    "        \n",
    "    \n",
    "def SGLI_2_AHI_GEO(filepath,lat,lon):  \n",
    "    geotiff_da = rioxarray.open_rasterio(filepath)\n",
    "    data = geotiff_da.interp(x=lon,y=lat,method=\"nearest\")\n",
    "    if data != -32768:\n",
    "        data = data * 0.01\n",
    "        return data\n",
    "    else:\n",
    "        return np.nan\n",
    "def SGLI_2_AHI_TIME(filepath,lat,lon):\n",
    "    geotiff_da = rioxarray.open_rasterio(filepath)\n",
    "    data = geotiff_da.interp(x=lon,y=lat,method=\"nearest\")\n",
    "    if data != -32768.:\n",
    "        data = data * 0.001\n",
    "        return data\n",
    "    else:\n",
    "        return np.nan\n",
    "\n",
    "def download_tile(date,save_tile_path,tile):\n",
    "    g = SGLI_L2_Downloader(\n",
    "        'galiwei ' ,\n",
    "        'RSRF', \n",
    "        '3', \n",
    "         date , \n",
    "         tile, \n",
    "        'D' , \n",
    "        '1' ,\n",
    "         save_tile_path\n",
    "        )\n",
    "    f = g.login()\n",
    "    \n",
    "    if os.path.exists(save_tile_path + g.filename()):\n",
    "        return g.filename()\n",
    "    \n",
    "    else :\n",
    "        rc = g.download(f)\n",
    "        if rc == 'n':\n",
    "            g.logout(f)\n",
    "            return 'n'\n",
    "        else:\n",
    "            g.logout(f)\n",
    "            return g.filename()\n",
    "    \n",
    "\n",
    "def Decompression(t,fn):\n",
    "    if os.path.exists('{}.bz2'.format(t + fn)):\n",
    "        p = subprocess.Popen('lbzip2 -d {}.bz2'.format(t + fn),shell=True)\n",
    "        p.communicate()\n",
    "        \n",
    "def ahi_lon_timeoffset(lon): \n",
    "    lon_interval = 15 \n",
    "    UTC_e_lon = lon_interval / 2 \n",
    "    timeoffset = math.ceil((lon - UTC_e_lon) / lon_interval) \n",
    "    return timeoffset \n",
    "        \n",
    "def Time_split(time):\n",
    "    YYYY = time.strftime('%Y')\n",
    "    MM = time.strftime('%m')\n",
    "    DD = time.strftime('%d')\n",
    "    HH = time.strftime('%H')\n",
    "    MIN = time.strftime('%M')\n",
    "    date = YYYY + MM + DD\n",
    "    return YYYY,MM,DD,HH,MIN,date\n",
    "    \n",
    "    \n",
    "def lonlat2tileidx(latlon:tuple)->tuple:\n",
    "    # vertical pixel count in one tile, horizontal pixel count in one tile\n",
    "    lintile, coltile = 1200, 1200\n",
    "    # vertical tile count, horizontal tile count\n",
    "    vtilenum, htilenum = 18, 36\n",
    "    # [deg/pixel]\n",
    "    d = 180.0/lintile/vtilenum\n",
    "    # from S-pole to N-pole\n",
    "    NL = 180.0/d\n",
    "    NP0 = 2*np.round(180.0/d)\n",
    "    res1 = (90 - latlon[0])/d-0.5\n",
    "    V_idx = res1 // lintile\n",
    "    # Y_idx = res1 - V_idx * lintile\n",
    "    # GCOM-C use integer NPi\n",
    "    NPi = round(NP0*np.cos(np.deg2rad(latlon[0])))\n",
    "    res2 = latlon[1]*NPi/360 - 0.5 + NP0/2\n",
    "    H_idx = res2 // coltile\n",
    "    # X_idx = res2 - H_idx * coltile\n",
    "    return str(round(V_idx)).rjust(2,'0')  + str(round(H_idx)).rjust(2,'0') \n",
    "def SGLI_SA(h,_min,lat,lon):\n",
    "\n",
    "    d = datetime.datetime(int(YYYY),int(MM),int(DD),h,_min)\n",
    "    \n",
    "    SAA,SZA = calc_sunpos(d,lat,lon)\n",
    "    return SAA,SZA\n",
    "reporjection_file_path = '/data01/people/liwei/Data/GCOM-C_RSRF/reporjection/'\n",
    "tile_file_path = '/data01/people/liwei/Data/GCOM-C_RSRF/tile/'"
   ]
  },
  {
   "cell_type": "code",
   "execution_count": 396,
   "id": "67379c46-fa30-4535-90d8-c8c011405204",
   "metadata": {},
   "outputs": [],
   "source": [
    "AHI_lat = np.linspace(60,-59.99,12000)[2550:2750][i_idx-r:i_idx+r]\n",
    "AHI_lon = np.linspace(85,204.99,12000)[4700:5000][j_idx-r:j_idx+r]"
   ]
  },
  {
   "cell_type": "code",
   "execution_count": 212,
   "id": "dcf5a0c9-be40-4a3c-a02d-8fb1e38466fa",
   "metadata": {},
   "outputs": [],
   "source": [
    "import rioxarray\n",
    "def SGLI_2_AHI_IMAGE(filepath,lat,lon):\n",
    "    geotiff_da = rioxarray.open_rasterio(filepath)\n",
    "    data = geotiff_da.interp(x=lon,y=lat,method=\"nearest\")\n",
    "    data = np.where(data != 65535, data ,np.nan)\n",
    "    data = data * 0.0001\n",
    "    return data"
   ]
  },
  {
   "cell_type": "code",
   "execution_count": 397,
   "id": "a7515ff5-f344-49c0-9e92-2317b7e617b3",
   "metadata": {
    "tags": []
   },
   "outputs": [
    {
     "name": "stdout",
     "output_type": "stream",
     "text": [
      "2018-07-21 00:00:00\n",
      "2018-07-22 00:00:00\n",
      "2018-07-23 00:00:00\n",
      "2018-07-24 00:00:00\n",
      "2018-07-25 00:00:00\n",
      "2018-07-26 00:00:00\n",
      "2018-07-27 00:00:00\n"
     ]
    }
   ],
   "source": [
    "SGLI_VZA = []\n",
    "SGLI_SZA = []\n",
    "SGLI_RAA = []\n",
    "SGLI_Ref = []\n",
    "b = 'Rs_PI02'\n",
    "for d in range(21,28):\n",
    "    date_start = '2018-07-{} 00:00'.format(str(d))\n",
    "    date_end = '2018-07-{} 06:00'.format(str(d))\n",
    "    date_t = dt.timedelta(days=1)\n",
    "    # date_t = dt.timedelta(minutes=30)\n",
    "    date_s = dt.datetime.strptime(date_start, \"%Y-%m-%d %H:%M\")\n",
    "    date_e = dt.datetime.strptime(date_end, \"%Y-%m-%d %H:%M\")\n",
    "    date_time_now = date_s\n",
    "    b = 4\n",
    "    \n",
    "    c_SGLI_VZA = []\n",
    "    c_SGLI_SZA = []\n",
    "    c_SGLI_RAA = []\n",
    "    c_SGLI_Ref = []\n",
    "    # time_list = []\n",
    "    while date_time_now <= date_e:\n",
    "        print(date_time_now)\n",
    "        start_time = T.time()\n",
    "        YYYY,MM,DD,HH,MIN,date= Time_split(date_time_now)\n",
    "        for lat_idx in range(2*r):\n",
    "            for lon_idx in range(2*r):\n",
    "\n",
    "                # 获取该经纬度的Tile号\n",
    "                # print(lat_idx,lon_idx) \n",
    "\n",
    "                tile = lonlat2tileidx([AHI_lat[lat_idx],AHI_lon[lon_idx]])\n",
    "\n",
    "                # print(tile) \n",
    "                # SGLI 文件名\n",
    "                SGLI_tile_filename = 'GC1SG1_{}D01D_T{}_L2SG_RSRFQ_3001.h5'.format(date,tile)\n",
    "                SGLI_VZA_filename = 'GC1SG1_{}D01D_T{}_L2SG_RSRFQ_3001_Sensor_zenith_PL.tif'.format(date,tile)\n",
    "                SGLI_VAA_filename = 'GC1SG1_{}D01D_T{}_L2SG_RSRFQ_3001_Sensor_azimuth_PL.tif'.format(date,tile)\n",
    "                SGLI_TIME_filename = 'GC1SG1_{}D01D_T{}_L2SG_RSRFQ_3001_Obs_time_PL.tif'.format(date,tile)\n",
    "                SGLI_REF_filename = 'GC1SG1_{}D01D_T{}_L2SG_RSRFQ_3001_Rs_PI02.tif'.format(date,tile)\n",
    "\n",
    "                # 存在SGLI文件\n",
    "                # print('1')\n",
    "                if os.path.exists(reporjection_file_path + SGLI_VAA_filename) and os.path.exists(reporjection_file_path + SGLI_VZA_filename):\n",
    "                    # print('1')\n",
    "                    # 读取该像素经纬度SGLI的VZA和VAA\n",
    "                    SGLI_VZA_PL = SGLI_2_AHI_GEO(reporjection_file_path + SGLI_VZA_filename,AHI_lat[lat_idx],AHI_lon[lon_idx])\n",
    "                    SGLI_VAA_PL = SGLI_2_AHI_GEO(reporjection_file_path + SGLI_VAA_filename,AHI_lat[lat_idx],AHI_lon[lon_idx])\n",
    "\n",
    "                    if not np.isnan(SGLI_VZA_PL) and not np.isnan(SGLI_VAA_PL):\n",
    "                        if SGLI_VAA_PL < 0:\n",
    "                            SGLI_VAA_PL = SGLI_VAA_PL + 360\n",
    "                    # 计算该像素经纬度SGLI的SZA和SAA\n",
    "\n",
    "                        SGLI_Obs_TIME = SGLI_2_AHI_TIME(reporjection_file_path + SGLI_TIME_filename,AHI_lat[lat_idx],AHI_lon[lon_idx])\n",
    "                        if not np.isnan(SGLI_Obs_TIME):\n",
    "                            # print(SGLI_Obs_TIME)\n",
    "                            SGLI_MIN = int(round(math.modf(SGLI_Obs_TIME)[0],3)*60)\n",
    "                            SGLI_HH = int(math.modf(SGLI_Obs_TIME)[1])\n",
    "                            if SGLI_HH <= 23 and SGLI_MIN >= 0 and SGLI_MIN <= 59:\n",
    "                                SGLI_SAA_PL,SGLI_SZA_PL = SGLI_SA(SGLI_HH,SGLI_MIN,AHI_lat[lat_idx],AHI_lon[lon_idx])\n",
    "                                SGLI_Ref_PL = SGLI_2_AHI_IMAGE(reporjection_file_path + SGLI_REF_filename,AHI_lat[lat_idx],AHI_lon[lon_idx])\n",
    "                                # 读取AHI的SZA、SAA\n",
    "                                SGLI_RAA_PL = abs(SGLI_SAA_PL - SGLI_VAA_PL.data[0])\n",
    "                                c_SGLI_VZA.append(SGLI_VZA_PL.values[0])\n",
    "                                c_SGLI_SZA.append(SGLI_SZA_PL)\n",
    "                                c_SGLI_RAA.append(SGLI_RAA_PL)\n",
    "                                c_SGLI_Ref.append(SGLI_Ref_PL)\n",
    "        SGLI_VZA.append(np.array(c_SGLI_VZA))\n",
    "        SGLI_SZA.append(np.array(c_SGLI_SZA))\n",
    "        SGLI_RAA.append(np.array(c_SGLI_RAA))\n",
    "        SGLI_Ref.append(np.array(c_SGLI_Ref))\n",
    "        date_time_now = date_time_now + date_t                            "
   ]
  },
  {
   "cell_type": "code",
   "execution_count": 432,
   "id": "b07b71ae-3784-43a3-a54b-ae9457335c86",
   "metadata": {},
   "outputs": [
    {
     "data": {
      "text/plain": [
       "array([[41.09, 41.09, 41.09, 41.09, 41.08, 41.08, 41.08, 41.08, 41.07,\n",
       "        41.07],\n",
       "       [41.08, 41.08, 41.08, 41.08, 41.07, 41.07, 41.07, 41.07, 41.06,\n",
       "        41.06],\n",
       "       [41.07, 41.07, 41.07, 41.06, 41.06, 41.06, 41.06, 41.05, 41.05,\n",
       "        41.05],\n",
       "       [41.06, 41.06, 41.06, 41.05, 41.05, 41.05, 41.05, 41.04, 41.04,\n",
       "        41.04],\n",
       "       [41.05, 41.05, 41.05, 41.04, 41.04, 41.04, 41.04, 41.03, 41.03,\n",
       "        41.03],\n",
       "       [41.04, 41.04, 41.03, 41.03, 41.03, 41.03, 41.02, 41.02, 41.02,\n",
       "        41.02],\n",
       "       [41.03, 41.03, 41.02, 41.02, 41.02, 41.02, 41.01, 41.01, 41.01,\n",
       "        41.01],\n",
       "       [41.02, 41.01, 41.01, 41.01, 41.01, 41.01, 41.  , 41.  , 41.  ,\n",
       "        41.  ],\n",
       "       [41.01, 41.  , 41.  , 41.  , 41.  , 40.99, 40.99, 40.99, 40.99,\n",
       "        40.98],\n",
       "       [41.  , 40.99, 40.99, 40.99, 40.99, 40.98, 40.98, 40.98, 40.98,\n",
       "        40.97]])"
      ]
     },
     "execution_count": 432,
     "metadata": {},
     "output_type": "execute_result"
    }
   ],
   "source": [
    "VZA[i-r:i+r,j-r:j+r] "
   ]
  },
  {
   "cell_type": "code",
   "execution_count": 400,
   "id": "b946fa79-cf61-4b5e-8958-4731baf63462",
   "metadata": {},
   "outputs": [],
   "source": [
    "\n",
    "def SGLI_Kernel_BRDF(band,day,idx_row,idx_col): \n",
    "    if band == 3:\n",
    "        if SGLI_SZA[day].size != 0:\n",
    "            kvol = Volume_Kernel(640,AHI_lat[idx_row],AHI_lon[idx_col],MJD,np.cos(np.radians(SGLI_SZA[day].reshape(2*r,2*r)[idx_row,idx_col])),np.cos(np.radians(SGLI_VZA[day].reshape(2*r,2*r)[idx_row,idx_col])),np.cos(np.radians(SGLI_RAA[day].reshape(2*r,2*r)[idx_row,idx_col])))\n",
    "            kgeo = Geometric_Kernel(640,AHI_lat[idx_row],AHI_lon[idx_col],MJD,np.cos(np.radians(SGLI_SZA[day].reshape(2*r,2*r)[idx_row,idx_col])),np.cos(np.radians(SGLI_VZA[day].reshape(2*r,2*r)[idx_row,idx_col])),np.cos(np.radians(SGLI_RAA[day].reshape(2*r,2*r)[idx_row,idx_col])))\n",
    "            return kvol,kgeo\n",
    "        else:\n",
    "            return np.nan,np.nan\n",
    "    elif band == 4:\n",
    "        if SGLI_SZA[day].size != 0:\n",
    "            kvol = Volume_Kernel(860,AHI_lat[idx_row],AHI_lon[idx_col],MJD,np.cos(np.radians(SGLI_SZA[day].reshape(2*r,2*r)[idx_row,idx_col])),np.cos(np.radians(SGLI_VZA[day].reshape(2*r,2*r)[idx_row,idx_col])),np.cos(np.radians(SGLI_RAA[day].reshape(2*r,2*r)[idx_row,idx_col])))\n",
    "            kgeo = Geometric_Kernel(860,AHI_lat[idx_row],AHI_lon[idx_col],MJD,np.cos(np.radians(SGLI_SZA[day].reshape(2*r,2*r)[idx_row,idx_col])),np.cos(np.radians(SGLI_VZA[day].reshape(2*r,2*r)[idx_row,idx_col])),np.cos(np.radians(SGLI_RAA[day].reshape(2*r,2*r)[idx_row,idx_col])))\n",
    "            return kvol,kgeo\n",
    "        else:\n",
    "            return np.nan,np.nan"
   ]
  },
  {
   "cell_type": "code",
   "execution_count": 401,
   "id": "e38820a8-b143-4969-8612-cb830e763a12",
   "metadata": {
    "tags": []
   },
   "outputs": [],
   "source": [
    "band = 4\n",
    "Kresult = Parallel(n_jobs=10)(delayed(SGLI_Kernel_BRDF)(b,d,i,j) for d in range(7) for i in range(2*r) for j in range(2*r))\n",
    "SGLI_kvol = np.array(Kresult)[:,0].reshape(7,2*r,2*r)\n",
    "SGLI_kgeo = np.array(Kresult)[:,1].reshape(7,2*r,2*r)"
   ]
  },
  {
   "cell_type": "code",
   "execution_count": 403,
   "id": "1c193cea-5e7f-447f-8828-1652b9da2db3",
   "metadata": {},
   "outputs": [],
   "source": [
    "i,j = 79,190\n",
    "# X_SGLI = np.array(Ref_valid)[0:36,i-6:i+6,j-6:j+6]\n",
    "Y_SGLI = fiso[i-r:i+r,j-r:j+r] + np.array(SGLI_kvol)[:,:,:]*fvol[i-r:i+r,j-r:j+r] + np.array(SGLI_kgeo)[:,:,:]*fgeo[i-r:i+r,j-r:j+r]"
   ]
  },
  {
   "cell_type": "code",
   "execution_count": 417,
   "id": "44a38461-7976-474d-9d0a-790ba364edf2",
   "metadata": {},
   "outputs": [],
   "source": [
    "XX = []\n",
    "YY = []\n",
    "for i in range(7):\n",
    "    if SGLI_SZA[i].size != 0:\n",
    "        XX.append(SGLI_Ref[i].reshape(2*r,2*r).tolist())\n",
    "        YY.append(Y_SGLI[i].reshape(2*r,2*r).tolist())"
   ]
  },
  {
   "cell_type": "code",
   "execution_count": 414,
   "id": "fd00a17d-f82c-49c8-990c-d0ed232dc93b",
   "metadata": {
    "tags": []
   },
   "outputs": [
    {
     "ename": "ValueError",
     "evalue": "cannot reshape array of size 0 into shape (6,6)",
     "output_type": "error",
     "traceback": [
      "\u001b[0;31m---------------------------------------------------------------------------\u001b[0m",
      "\u001b[0;31mValueError\u001b[0m                                Traceback (most recent call last)",
      "Cell \u001b[0;32mIn [414], line 1\u001b[0m\n\u001b[0;32m----> 1\u001b[0m XX \u001b[38;5;241m=\u001b[39m \u001b[43mSGLI_Ref\u001b[49m\u001b[43m[\u001b[49m\u001b[43mday\u001b[49m\u001b[43m]\u001b[49m\u001b[38;5;241;43m.\u001b[39;49m\u001b[43mreshape\u001b[49m\u001b[43m(\u001b[49m\u001b[38;5;241;43m6\u001b[39;49m\u001b[43m,\u001b[49m\u001b[38;5;241;43m6\u001b[39;49m\u001b[43m)\u001b[49m\n\u001b[1;32m      2\u001b[0m YY \u001b[38;5;241m=\u001b[39m Y_SGLI[day]\n",
      "\u001b[0;31mValueError\u001b[0m: cannot reshape array of size 0 into shape (6,6)"
     ]
    }
   ],
   "source": [
    "XX = SGLI_Ref[day].reshape(6,6)\n",
    "YY = Y_SGLI[day]"
   ]
  },
  {
   "cell_type": "code",
   "execution_count": 420,
   "id": "d768fe6b-9497-4107-a8dd-932796cb6a2d",
   "metadata": {},
   "outputs": [
    {
     "data": {
      "text/plain": [
       "(0.0, 0.5)"
      ]
     },
     "execution_count": 420,
     "metadata": {},
     "output_type": "execute_result"
    },
    {
     "data": {
      "image/png": "[encoded data removed]",
      "text/plain": [
       "<Figure size 288x288 with 1 Axes>"
      ]
     },
     "metadata": {
      "needs_background": "light"
     },
     "output_type": "display_data"
    }
   ],
   "source": [
    "day = 6\n",
    "\n",
    "XX = np.array(XX).reshape(-1)\n",
    "YY = np.array(YY).reshape(-1)\n",
    "# XX = SGLI_Ref[day].reshape(-1)\n",
    "# YY = Y_SGLI[day].reshape(-1)\n",
    "nan_mask = ~np.isnan(YY.reshape(-1))\n",
    "XX = XX.reshape(-1)[nan_mask]\n",
    "YY = YY.reshape(-1)[nan_mask]\n",
    "\n",
    "rmse = np.sqrt(mean_squared_error(XX ,YY))\n",
    "p = np.polyfit(XX ,YY,1)    \n",
    "\n",
    "k = round(p[0],2)\n",
    "b = round(p[1],2)\n",
    "rmse = round(rmse.astype('float64'),3)\n",
    "\n",
    "\n",
    "axis_min = 0\n",
    "axis_max = 0.5\n",
    "\n",
    "fig = plt.figure(figsize=(4,4))\n",
    "ax1 = fig.add_subplot(111,aspect='equal')\n",
    "\n",
    "x = np.arange(axis_min,axis_max+1)\n",
    "y = 1 * x\n",
    "\n",
    "xx = np.arange(0,1+0.1,0.05) \n",
    "yy = k * xx + b\n",
    "\n",
    "# Calculate the point density\n",
    "xy = np.vstack([XX,YY])\n",
    "z = gaussian_kde(xy)(xy)\n",
    "\n",
    "# Sort the points by density, so that the densest points are plotted last\n",
    "idx = z.argsort()\n",
    "XX, YY, z = XX[idx], YY[idx], z[idx]\n",
    "\n",
    "ax1.minorticks_on()\n",
    "# x_major_locator = plt.MultipleLocator(5)\n",
    "x_minor_locator = plt.MultipleLocator(0.05)\n",
    "ax1.xaxis.set_minor_locator(x_minor_locator)\n",
    "# ax.xaxis.set_major_locator(x_major_locator)\n",
    "ax1.yaxis.set_minor_locator(x_minor_locator)\n",
    "# ax.yaxis.set_major_locator(x_major_locator)\n",
    "\n",
    "ax1.tick_params(axis=\"y\",which='minor',length=5,direction='in',labelsize=8)\n",
    "ax1.tick_params(axis=\"y\",which='major',length=10,direction='in',labelsize=8)\n",
    "\n",
    "ax1.tick_params(axis=\"x\",which='minor',length=5,direction='in',labelsize=8)\n",
    "ax1.tick_params(axis=\"x\",which='major',length=10,direction='in',labelsize=8)\n",
    "\n",
    "\n",
    "ax1.spines['right'].set_color('none')\n",
    "ax1.spines['top'].set_color('none')\n",
    "\n",
    "\n",
    "im = ax1.scatter((XX*1.002)-0.03456,YY,marker='o', c=z,s=15,cmap='Spectral_r')\n",
    "# im = ax1.scatter(XX,YY,marker='o', c='k',s=15)\n",
    "\n",
    "ax1.set_xticks(np.arange(axis_min,axis_max+0.1,0.1))\n",
    "ax1.set_yticks(np.arange(axis_min+0.1,axis_max+0.1,0.1))\n",
    "\n",
    "ax1.set_xlabel(\"SGLI Ref \",fontsize=10)\n",
    "ax1.set_ylabel(\"BRDF fitting Ref\",fontsize=10)\n",
    "\n",
    "\n",
    "ax1.plot(x,y,color='k',linewidth=2,linestyle='-',alpha=0.6)\n",
    "ax1.plot(xx,yy,color='r',linewidth=2,linestyle='-') \n",
    "\n",
    "\n",
    "text_x = axis_min + (axis_max - axis_min) * 0.07\n",
    "text_y = axis_max - (axis_max - axis_min) * 0.22\n",
    "\n",
    "ax1.text(text_x,text_y,s = 'N = {}\\nRMSE = {}\\ny = {} + {}x'.format(len(XX),rmse,b,k),fontsize=8)\n",
    "# cax = add_right_cax(ax1, pad=0.06, width=0.03)\n",
    "# cb = fig.colorbar(im,cax=cax)\n",
    "# cb.ax.set_xlabel('Count',rotation=360)\n",
    "\n",
    "ax1.set_xlim(axis_min,axis_max)\n",
    "ax1.set_ylim(axis_min,axis_max)"
   ]
  },
  {
   "cell_type": "code",
   "execution_count": null,
   "id": "870a9cab-a455-4098-84d7-6b0a773c9bf8",
   "metadata": {},
   "outputs": [],
   "source": []
  },
  {
   "cell_type": "code",
   "execution_count": 312,
   "id": "bc20fe12-4ae3-43ab-abf0-81849ddfe1de",
   "metadata": {},
   "outputs": [
    {
     "data": {
      "text/plain": [
       "<matplotlib.image.AxesImage at 0x7f808e72d160>"
      ]
     },
     "execution_count": 312,
     "metadata": {},
     "output_type": "execute_result"
    },
    {
     "data": {
      "image/png": "[encoded data removed]",
      "text/plain": [
       "<Figure size 432x288 with 1 Axes>"
      ]
     },
     "metadata": {
      "needs_background": "light"
     },
     "output_type": "display_data"
    }
   ],
   "source": [
    "plt.imshow(SGLI_Ref[3].reshape(12,12),cmap='gray')"
   ]
  },
  {
   "cell_type": "code",
   "execution_count": 313,
   "id": "4de5749a-1a92-4d57-bd96-283217fdf6ab",
   "metadata": {},
   "outputs": [
    {
     "data": {
      "text/plain": [
       "<matplotlib.image.AxesImage at 0x7f808e7124c0>"
      ]
     },
     "execution_count": 313,
     "metadata": {},
     "output_type": "execute_result"
    },
    {
     "data": {
      "image/png": "[encoded data removed]",
      "text/plain": [
       "<Figure size 432x288 with 1 Axes>"
      ]
     },
     "metadata": {
      "needs_background": "light"
     },
     "output_type": "display_data"
    }
   ],
   "source": [
    "plt.imshow(Y_SGLI[3].reshape(12,12),cmap='gray')"
   ]
  }
 ],
 "metadata": {
  "kernelspec": {
   "display_name": "Python 3",
   "language": "python",
   "name": "python3"
  },
  "language_info": {
   "codemirror_mode": {
    "name": "ipython",
    "version": 3
   },
   "file_extension": ".py",
   "mimetype": "text/x-python",
   "name": "python",
   "nbconvert_exporter": "python",
   "pygments_lexer": "ipython3",
   "version": "3.9.13"
  }
 },
 "nbformat": 4,
 "nbformat_minor": 5
}
